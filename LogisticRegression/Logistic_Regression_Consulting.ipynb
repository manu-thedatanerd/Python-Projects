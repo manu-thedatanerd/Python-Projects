{
 "cells": [
  {
   "cell_type": "code",
   "execution_count": 1,
   "metadata": {
    "collapsed": true
   },
   "outputs": [],
   "source": [
    "import findspark\n",
    "findspark.init()\n",
    "from pyspark.sql import SparkSession\n"
   ]
  },
  {
   "cell_type": "code",
   "execution_count": 2,
   "metadata": {
    "collapsed": true
   },
   "outputs": [],
   "source": [
    "spark = SparkSession.builder.appName('cust').getOrCreate()"
   ]
  },
  {
   "cell_type": "code",
   "execution_count": 3,
   "metadata": {
    "collapsed": true
   },
   "outputs": [],
   "source": [
    "customer = spark.read.csv('file:///home/manohar_l/Manohar_Personal_Projects/customer_churn.csv', inferSchema=True,header=True)"
   ]
  },
  {
   "cell_type": "code",
   "execution_count": 6,
   "metadata": {
    "collapsed": false
   },
   "outputs": [
    {
     "data": {
      "text/plain": [
       "['Names',\n",
       " 'Age',\n",
       " 'Total_Purchase',\n",
       " 'Account_Manager',\n",
       " 'Years',\n",
       " 'Num_Sites',\n",
       " 'Onboard_date',\n",
       " 'Location',\n",
       " 'Company',\n",
       " 'Churn']"
      ]
     },
     "execution_count": 6,
     "metadata": {},
     "output_type": "execute_result"
    }
   ],
   "source": [
    "customer.columns"
   ]
  },
  {
   "cell_type": "code",
   "execution_count": 5,
   "metadata": {
    "collapsed": false
   },
   "outputs": [
    {
     "data": {
      "text/plain": [
       "[Row(Names='Cameron Williams', Age=42.0, Total_Purchase=11066.8, Account_Manager=0, Years=7.22, Num_Sites=8.0, Onboard_date=datetime.datetime(2013, 8, 30, 7, 0, 40), Location='10265 Elizabeth Mission Barkerburgh, AK 89518', Company='Harvey LLC', Churn=1)]"
      ]
     },
     "execution_count": 5,
     "metadata": {},
     "output_type": "execute_result"
    }
   ],
   "source": [
    "customer.head(1)"
   ]
  },
  {
   "cell_type": "code",
   "execution_count": 10,
   "metadata": {
    "collapsed": false
   },
   "outputs": [
    {
     "name": "stdout",
     "output_type": "stream",
     "text": [
      "+-------+-----------------+-----------------+-----------------+------------------+-------------------+\n",
      "|summary|              Age|   Total_Purchase|            Years|         Num_Sites|              Churn|\n",
      "+-------+-----------------+-----------------+-----------------+------------------+-------------------+\n",
      "|  count|              900|              900|              900|               900|                900|\n",
      "|   mean|41.81666666666667|10062.82403333334| 5.27315555555555| 8.587777777777777|0.16666666666666666|\n",
      "| stddev|6.127560416916251|2408.644531858096|1.274449013194616|1.7648355920350969| 0.3728852122772358|\n",
      "|    min|             22.0|            100.0|              1.0|               3.0|                  0|\n",
      "|    max|             65.0|         18026.01|             9.15|              14.0|                  1|\n",
      "+-------+-----------------+-----------------+-----------------+------------------+-------------------+\n",
      "\n"
     ]
    }
   ],
   "source": [
    "my_cols = customer.select(['Age', 'Total_Purchase', 'Years', 'Num_Sites','Churn'])\n",
    "my_cols.describe().show()"
   ]
  },
  {
   "cell_type": "code",
   "execution_count": 11,
   "metadata": {
    "collapsed": false
   },
   "outputs": [
    {
     "name": "stdout",
     "output_type": "stream",
     "text": [
      "+-------+-----------------+-----------------+-----------------+------------------+-------------------+\n",
      "|summary|              Age|   Total_Purchase|            Years|         Num_Sites|              Churn|\n",
      "+-------+-----------------+-----------------+-----------------+------------------+-------------------+\n",
      "|  count|              900|              900|              900|               900|                900|\n",
      "|   mean|41.81666666666667|10062.82403333334| 5.27315555555555| 8.587777777777777|0.16666666666666666|\n",
      "| stddev|6.127560416916251|2408.644531858096|1.274449013194616|1.7648355920350969| 0.3728852122772358|\n",
      "|    min|             22.0|            100.0|              1.0|               3.0|                  0|\n",
      "|    max|             65.0|         18026.01|             9.15|              14.0|                  1|\n",
      "+-------+-----------------+-----------------+-----------------+------------------+-------------------+\n",
      "\n"
     ]
    }
   ],
   "source": [
    "my_final_data = my_cols.na.drop()\n",
    "my_final_data.describe().show()"
   ]
  },
  {
   "cell_type": "code",
   "execution_count": 17,
   "metadata": {
    "collapsed": true
   },
   "outputs": [],
   "source": [
    "from pyspark.ml.classification import LogisticRegression\n",
    "from pyspark.ml.feature import VectorAssembler\n",
    "from pyspark.ml.pipeline import Pipeline"
   ]
  },
  {
   "cell_type": "code",
   "execution_count": 15,
   "metadata": {
    "collapsed": true
   },
   "outputs": [],
   "source": [
    "assembler = VectorAssembler(inputCols=['Age', 'Total_Purchase', 'Years', 'Num_Sites'], outputCol='features')"
   ]
  },
  {
   "cell_type": "code",
   "execution_count": 16,
   "metadata": {
    "collapsed": true
   },
   "outputs": [],
   "source": [
    "lr_customer = LogisticRegression(featuresCol='features', labelCol='Churn')"
   ]
  },
  {
   "cell_type": "code",
   "execution_count": 18,
   "metadata": {
    "collapsed": true
   },
   "outputs": [],
   "source": [
    "pipeline = Pipeline(stages=[assembler,lr_customer])"
   ]
  },
  {
   "cell_type": "code",
   "execution_count": 19,
   "metadata": {
    "collapsed": true
   },
   "outputs": [],
   "source": [
    "train_data, test_data = my_final_data.randomSplit([0.7,0.3])"
   ]
  },
  {
   "cell_type": "code",
   "execution_count": 20,
   "metadata": {
    "collapsed": true
   },
   "outputs": [],
   "source": [
    "train_model = pipeline.fit(train_data)"
   ]
  },
  {
   "cell_type": "code",
   "execution_count": 21,
   "metadata": {
    "collapsed": true
   },
   "outputs": [],
   "source": [
    "test_model = train_model.transform(test_data)"
   ]
  },
  {
   "cell_type": "code",
   "execution_count": 22,
   "metadata": {
    "collapsed": false
   },
   "outputs": [
    {
     "name": "stdout",
     "output_type": "stream",
     "text": [
      "+----+--------------+-----+---------+-----+--------------------+--------------------+--------------------+----------+\n",
      "| Age|Total_Purchase|Years|Num_Sites|Churn|            features|       rawPrediction|         probability|prediction|\n",
      "+----+--------------+-----+---------+-----+--------------------+--------------------+--------------------+----------+\n",
      "|25.0|       9672.03| 5.49|      8.0|    0|[25.0,9672.03,5.4...|[4.21368923892380...|[0.98542390770012...|       0.0|\n",
      "|26.0|       8787.39| 5.42|     11.0|    1|[26.0,8787.39,5.4...|[0.46840268087399...|[0.61500562276468...|       0.0|\n",
      "|28.0|       8670.98| 3.99|      6.0|    0|[28.0,8670.98,3.9...|[7.43066078731126...|[0.99940755552791...|       0.0|\n",
      "|28.0|      11204.23| 3.67|     11.0|    0|[28.0,11204.23,3....|[1.50048895074551...|[0.81764739013917...|       0.0|\n",
      "|28.0|      11245.38| 6.72|      8.0|    0|[28.0,11245.38,6....|[3.38816136282151...|[0.96733249302902...|       0.0|\n",
      "|29.0|       8688.17|  5.7|      9.0|    1|[29.0,8688.17,5.7...|[2.64296626528184...|[0.93357614439696...|       0.0|\n",
      "|29.0|       9378.24| 4.93|      8.0|    0|[29.0,9378.24,4.9...|[4.36434284408410...|[0.98743682797427...|       0.0|\n",
      "|29.0|      12711.15| 5.74|      7.0|    0|[29.0,12711.15,5....|[5.21383473363198...|[0.99458867205922...|       0.0|\n",
      "|29.0|      13255.05| 4.89|      8.0|    0|[29.0,13255.05,4....|[4.50072148658335...|[0.98902089444297...|       0.0|\n",
      "|30.0|       6744.87| 5.14|      9.0|    0|[30.0,6744.87,5.1...|[2.87856245393101...|[0.94677647103459...|       0.0|\n",
      "|30.0|      10183.98| 5.14|      9.0|    0|[30.0,10183.98,5....|[2.97824241082549...|[0.95158145602787...|       0.0|\n",
      "|30.0|      10744.14| 7.16|      9.0|    1|[30.0,10744.14,7....|[1.78185767728136...|[0.85592609987956...|       0.0|\n",
      "|30.0|      10960.52| 5.96|      9.0|    0|[30.0,10960.52,5....|[2.50849792275108...|[0.92473541287298...|       0.0|\n",
      "|30.0|      12788.37| 4.31|     10.0|    0|[30.0,12788.37,4....|[2.31284473688233...|[0.90993526228048...|       0.0|\n",
      "|31.0|       8688.21| 3.58|      7.0|    0|[31.0,8688.21,3.5...|[6.30539488693389...|[0.99817690495096...|       0.0|\n",
      "|31.0|      11297.57| 6.23|     10.0|    1|[31.0,11297.57,6....|[1.07279443862376...|[0.74512797745196...|       0.0|\n",
      "|32.0|       5756.12|  5.9|      8.0|    0|[32.0,5756.12,5.9...|[3.54430813953406...|[0.97192251677239...|       0.0|\n",
      "|32.0|       9036.27| 7.14|     11.0|    0|[32.0,9036.27,7.1...|[-0.8224168275391...|[0.30525087545536...|       1.0|\n",
      "|32.0|       9472.72|  1.0|     10.0|    0|[32.0,9472.72,1.0...|[4.11525842433685...|[0.98394039841718...|       0.0|\n",
      "|32.0|      12142.99| 5.01|      7.0|    0|[32.0,12142.99,5....|[5.50283894631651...|[0.99594135396946...|       0.0|\n",
      "+----+--------------+-----+---------+-----+--------------------+--------------------+--------------------+----------+\n",
      "only showing top 20 rows\n",
      "\n"
     ]
    }
   ],
   "source": [
    "test_model.show()"
   ]
  },
  {
   "cell_type": "code",
   "execution_count": 23,
   "metadata": {
    "collapsed": true
   },
   "outputs": [],
   "source": [
    "from pyspark.ml.evaluation import BinaryClassificationEvaluator, MulticlassClassificationEvaluator"
   ]
  },
  {
   "cell_type": "code",
   "execution_count": 24,
   "metadata": {
    "collapsed": true
   },
   "outputs": [],
   "source": [
    "customer_eval = BinaryClassificationEvaluator(rawPredictionCol='prediction',labelCol='Churn')"
   ]
  },
  {
   "cell_type": "code",
   "execution_count": 26,
   "metadata": {
    "collapsed": false
   },
   "outputs": [
    {
     "data": {
      "text/plain": [
       "0.7378327207929614"
      ]
     },
     "execution_count": 26,
     "metadata": {},
     "output_type": "execute_result"
    }
   ],
   "source": [
    "customer_eval.evaluate(test_model)"
   ]
  },
  {
   "cell_type": "code",
   "execution_count": 37,
   "metadata": {
    "collapsed": true
   },
   "outputs": [],
   "source": [
    "customer_eval1 = MulticlassClassificationEvaluator(predictionCol='prediction',labelCol='Churn', metricName='accuracy')"
   ]
  },
  {
   "cell_type": "code",
   "execution_count": 38,
   "metadata": {
    "collapsed": false
   },
   "outputs": [
    {
     "data": {
      "text/plain": [
       "0.8923076923076924"
      ]
     },
     "execution_count": 38,
     "metadata": {},
     "output_type": "execute_result"
    }
   ],
   "source": [
    "customer_eval1.evaluate(test_model)"
   ]
  },
  {
   "cell_type": "code",
   "execution_count": null,
   "metadata": {
    "collapsed": true
   },
   "outputs": [],
   "source": []
  }
 ],
 "metadata": {
  "kernelspec": {
   "display_name": "PySpark kernel=pyspark (Spark 1.6.1)",
   "language": "python",
   "name": "pyspark"
  },
  "language_info": {
   "codemirror_mode": {
    "name": "ipython",
    "version": 3
   },
   "file_extension": ".py",
   "mimetype": "text/x-python",
   "name": "python",
   "nbconvert_exporter": "python",
   "pygments_lexer": "ipython3",
   "version": "3.5.1"
  }
 },
 "nbformat": 4,
 "nbformat_minor": 2
}
